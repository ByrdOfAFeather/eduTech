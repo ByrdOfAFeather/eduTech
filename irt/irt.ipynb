{
 "cells": [
  {
   "cell_type": "markdown",
   "source": [
    "# 1. Item Response Theory\n",
    "\n",
    "## 1.1 Introduction\n",
    "Item Response Theory (IRT) is a field of study concerned with describing the process by which outcomes are concerned. IRT has \n",
    "a very close connection to analyzing testing data. IRT posits three main explanatory parameters:\n",
    "\n",
    "* Student Ability - This estimates the ability of each student in terms of the test set \n",
    "* Question Difficulty - This estimates the difficulty of each question in terms of a test set \n",
    "* Discrimination Parameter - This estimates the degree to which each question "
   ],
   "metadata": {
    "collapsed": false,
    "pycharm": {
     "name": "#%% md\n"
    }
   }
  }
 ],
 "metadata": {
  "language_info": {
   "codemirror_mode": {
    "name": "ipython",
    "version": 2
   },
   "file_extension": ".py",
   "mimetype": "text/x-python",
   "name": "python",
   "nbconvert_exporter": "python",
   "pygments_lexer": "ipython2",
   "version": "2.7.6"
  },
  "kernelspec": {
   "name": "python3",
   "language": "python",
   "display_name": "Python 3"
  },
  "pycharm": {
   "stem_cell": {
    "cell_type": "raw",
    "source": [],
    "metadata": {
     "collapsed": false
    }
   }
  }
 },
 "nbformat": 4,
 "nbformat_minor": 0
}